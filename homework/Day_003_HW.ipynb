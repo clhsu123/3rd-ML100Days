{
 "cells": [
  {
   "cell_type": "raw",
   "metadata": {},
   "source": [
    "Topic of Article: Joint Speech Recognition and Speaker Diarization via Sequence Transduction\n",
    "\n",
    "posted by Laurent EL Shafey, Software Engineer and Izhak Shafran, Research Scientist, Google Health.\n",
    "\n",
    "Goal: Recognizing \"who said what\" with much higher accuraccy in comparison to conventional methods(Combination of ASR(Automatic Speech Recognition) and SD(Speaker Diarization) systems).\n",
    "\n",
    "Technique: RNN-T(Recurrent Neural Network Transducer) 遞歸神經網絡傳感器\n",
    "\n",
    "Data Source: Examples of audio and corresponding reference transcripts. Reference transcripts contain words spoken by a speaker followed by a tag that defines the role of the speaker. For instance, \"When is the homework due?\"<student> is a reference transcript."
   ]
  }
 ],
 "metadata": {
  "kernelspec": {
   "display_name": "Python 3",
   "language": "python",
   "name": "python3"
  },
  "language_info": {
   "codemirror_mode": {
    "name": "ipython",
    "version": 3
   },
   "file_extension": ".py",
   "mimetype": "text/x-python",
   "name": "python",
   "nbconvert_exporter": "python",
   "pygments_lexer": "ipython3",
   "version": "3.7.3"
  }
 },
 "nbformat": 4,
 "nbformat_minor": 2
}
