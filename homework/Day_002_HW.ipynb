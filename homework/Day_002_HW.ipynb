{
 "cells": [
  {
   "cell_type": "raw",
   "metadata": {},
   "source": [
    "I think Real Estate is a highly potential area where Machine Learning could pretty much excercise it's power and ability to accurately predict the price of the Real Estate. The reasons would be provided in the following paragraphs:\n",
    "\n",
    "First, the access to big amount of data is a crucial factor in Machine Learning Field. Fortunately, data concerning each selling of Real Estate is available on the government's website, where people could download the data in manageable format like excel file... ...etc. There is considerable data which may be enough for Machine Learning to build an accurate model.\n",
    "\n",
    "Moreover, Real Estate has long been a popular investment tool which is relatively stable in comparison to other form of investment. In other words, the accuracy of the prediction of Real Estate could be a tremendous success to the convenience of people who would like to benefit from this investment tool.\n",
    "\n",
    "However, there are still considerable challenges that developers will encounter when trying to build a relible model. For example, the complexity of the data is the biggest challenge in my opinion. There are way too many factors which could affect the price of Real Estate, including the position, size, age, number of rooms... ...etc.\n"
   ]
  }
 ],
 "metadata": {
  "kernelspec": {
   "display_name": "Python 3",
   "language": "python",
   "name": "python3"
  },
  "language_info": {
   "codemirror_mode": {
    "name": "ipython",
    "version": 3
   },
   "file_extension": ".py",
   "mimetype": "text/x-python",
   "name": "python",
   "nbconvert_exporter": "python",
   "pygments_lexer": "ipython3",
   "version": "3.7.3"
  }
 },
 "nbformat": 4,
 "nbformat_minor": 2
}
